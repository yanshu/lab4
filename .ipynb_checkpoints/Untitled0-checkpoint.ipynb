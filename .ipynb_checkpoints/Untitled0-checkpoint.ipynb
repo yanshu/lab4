{
 "metadata": {
  "language": "Julia",
  "name": ""
 },
 "nbformat": 3,
 "nbformat_minor": 0,
 "worksheets": [
  {
   "cells": [
    {
     "cell_type": "code",
     "collapsed": false,
     "input": [
      "function update_derivs_pos!(state::Vector{Float64}, derivs::Vector{Float64} )\n",
      " # Input: state = [x,y,vx,vy], a vector of two 2-d positions and velocities for a test particle\n",
      " # Output: The derivatives of the position are updated in the preallocated array derivs.\n",
      "  @assert length(state) == 4\n",
      "  @assert length(derivs) == 4\n",
      "  v_x = state[3]\n",
      "  v_y = state[4]\n",
      "  derivs[1] = v_x\n",
      "  derivs[2] = v_y\n",
      "  return derivs;\n",
      "end\n",
      "\n",
      "function advance_leapfrog!(state::Vector{Float64},derivs::Vector{Float64}, dt::Float64; derivs_current::Bool = false)\n",
      "  # Input/Output: state = array of two 2-d positions and velocities for a test particle\n",
      "  # Temporary space: The derivatives are updated in the preallocated array derivs.\n",
      "  # Input: dt is the fixed time step\n",
      "  # Optional param: derivs_current: whether need to calculate derivatives at beginning\n",
      "  @assert length(state) == length(derivs)\n",
      "\n",
      "  if !derivs_current\n",
      "    update_derivs_pos!(state,derivs);\n",
      "  end\n",
      "  {state[i] = state[i] + 0.5*dt*derivs[i]  for i in 1:2}\n",
      "  update_derivs_vel!(state,derivs);\n",
      "  {state[i] = state[i] + dt*derivs[i]      for i in 3:4}\n",
      "  update_derivs_pos!(state,derivs);\n",
      "  {state[i] = state[i] + 0.5*dt*derivs[i]  for i in 1:2}\n",
      "end\n",
      "\n",
      "\n",
      "state = [0.,1.,1.,0.];\n",
      "derivs = [0.,0.,0.,0.];\n",
      "Profile.clear()\n",
      "advance_leapfrog!(state,derivs,0.1,false);\n",
      "#for i = 1:10000000;update_derivs_pos!(state, derivs);end\n",
      "#@profile {for i = 1:10000000;update_derivs_pos!(state, derivs);end}\n",
      "\n",
      "#@profile {for i = 1:10000000;advance_leapfrog!(state, derivs,0.1,false);end}\n",
      "Profile.print()"
     ],
     "language": "python",
     "metadata": {},
     "outputs": [
      {
       "output_type": "stream",
       "stream": "stdout",
       "text": [
        "    162 multi.jl; anonymous; line: 1308\n"
       ]
      },
      {
       "output_type": "stream",
       "stream": "stdout",
       "text": [
        "      162 ...IJulia/src/IJulia.jl; eventloop; line: 92\n",
        "       162 ...Julia/src/IJulia.jl; eventloop; line: 68\n",
        "          162 ...execute_request.jl; execute_request_0x535c5df2; line: 139\n",
        "            162 loading.jl; include_string; line: 83\n",
        "                162 profile.jl; anonymous; line: 36\n",
        "                  5   In[19]; update_derivs_pos!; line: 4\n",
        "                  4   In[19]; update_derivs_pos!; line: 6\n",
        "                  13  In[19]; update_derivs_pos!; line: 7\n",
        "                  3   In[19]; update_derivs_pos!; line: 9\n"
       ]
      }
     ],
     "prompt_number": 19
    },
    {
     "cell_type": "code",
     "collapsed": false,
     "input": [
      "function f(x::Float64)\n",
      "        return exp(-0.5*x.^2)/sqrt(2*pi);\n",
      "end\n",
      "\n",
      "function integral(a::Float64,b::Float64,n::Int)\n",
      "        @assert typeof(a) == Float64\n",
      "        @assert typeof(b) == Float64\n",
      "        @assert typeof(n) == Int\n",
      "        dx = (b-a)/n;\n",
      "        sum = 0.5*dx*(f(a) + f(b));\n",
      "        for i = 1:n-1\n",
      "                sum += dx*f(a+dx*i);\n",
      "        end\n",
      "        return sum;\n",
      "end\n",
      "\n",
      "print(integral(0.,1.,100));\n"
     ],
     "language": "python",
     "metadata": {},
     "outputs": [
      {
       "output_type": "stream",
       "stream": "stdout",
       "text": [
        "0.3413427296391174"
       ]
      }
     ],
     "prompt_number": 23
    },
    {
     "cell_type": "code",
     "collapsed": false,
     "input": [
      "exp(-0.5*1.3*1.3)/sqrt(2*pi)"
     ],
     "language": "python",
     "metadata": {},
     "outputs": [
      {
       "metadata": {},
       "output_type": "pyout",
       "prompt_number": 22,
       "text": [
        "0.17136859204780736"
       ]
      }
     ],
     "prompt_number": 22
    },
    {
     "cell_type": "code",
     "collapsed": false,
     "input": [
      "a = 1\n",
      "typeof(a) == Float64"
     ],
     "language": "python",
     "metadata": {},
     "outputs": [
      {
       "metadata": {},
       "output_type": "pyout",
       "prompt_number": 23,
       "text": [
        "false"
       ]
      }
     ],
     "prompt_number": 23
    },
    {
     "cell_type": "code",
     "collapsed": false,
     "input": [
      "function f(x::Array)\n",
      "        return exp(-0.5*x.^2)/sqrt(2*pi);\n",
      "end\n",
      "x = [1,3,5]\n",
      "f(x)"
     ],
     "language": "python",
     "metadata": {},
     "outputs": [
      {
       "metadata": {},
       "output_type": "pyout",
       "prompt_number": 74,
       "text": [
        "3-element Array{Float64,1}:\n",
        " 0.241971  \n",
        " 0.00443185\n",
        " 1.48672e-6"
       ]
      }
     ],
     "prompt_number": 74
    },
    {
     "cell_type": "code",
     "collapsed": false,
     "input": [
      "erf(0.5)"
     ],
     "language": "python",
     "metadata": {},
     "outputs": [
      {
       "ename": "LoadError",
       "evalue": "stack overflow\nat In[75]:1",
       "output_type": "pyerr",
       "traceback": [
        "stack overflow\nat In[75]:1",
        " in sqrt at math.jl:284",
        " in erf at In[26]:3 (repeats 79999 times)"
       ]
      }
     ],
     "prompt_number": 75
    },
    {
     "cell_type": "code",
     "collapsed": false,
     "input": [
      "function f(x::Array)\n",
      "        return exp(-0.5*x.^2)/sqrt(2*pi);\n",
      "end\n",
      "\n",
      "function integral(a::Float64,b::Float64,N::Int64)\n",
      "        @assert typeof(a) == Float64\n",
      "        @assert typeof(b) == Float64\n",
      "        @assert typeof(N) == Int64\n",
      "        dx = (b-a)/(N+1);\n",
      "        x = Array(Float64,N);\n",
      "        for i = 1:N\n",
      "                x[i] = a + dx*i\n",
      "        end\n",
      "        return x;\n",
      "        #sum = sum(f(x))*dx\n",
      "        #return sum;\n",
      "end\n",
      "\n",
      "print(integral(1.,2.,4));\n",
      "#Profile.clear();\n",
      "#@profile integral(-100.,100.,5000000);\n",
      "#@time integral(-100.,100.,5000000);\n",
      "#Profile.print();\n"
     ],
     "language": "python",
     "metadata": {},
     "outputs": [],
     "prompt_number": 79
    },
    {
     "cell_type": "code",
     "collapsed": false,
     "input": [],
     "language": "python",
     "metadata": {},
     "outputs": [],
     "prompt_number": 79
    }
   ],
   "metadata": {}
  }
 ]
}